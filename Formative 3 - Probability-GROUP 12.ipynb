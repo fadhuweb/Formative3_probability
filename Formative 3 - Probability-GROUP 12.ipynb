{
  "cells": [
    {
      "cell_type": "markdown",
      "metadata": {
        "id": "VwBushvjbyIS"
      },
      "source": [
        "# Part 1: Probability Distributions"
      ]
    },
    {
      "cell_type": "markdown",
      "metadata": {
        "id": "daacVIOrH7Rc"
      },
      "source": [
        "## What is Binomial distribution?\n",
        "\n",
        "Binomial distribution is is a discrete distribution that models the number the probability of getting a specific number of successes in a fixed number of independent trials, where each trial has two possible outcomes which are success or failure"
      ]
    },
    {
      "cell_type": "markdown",
      "metadata": {
        "id": "pudMLg2lcYsO"
      },
      "source": [
        "#### Real-World Scenario: Defective Laptops (Binomial Distribution)"
      ]
    },
    {
      "cell_type": "markdown",
      "metadata": {
        "id": "nBfjdPl2cm8W"
      },
      "source": [
        "A laptop manufacturing company reports a 5% defect rate in its production process. To assess quality control, a random sample of 10 laptops is selected for inspection. What is the probability that exactly 2 of the 10 laptops in the sample are defective?"
      ]
    },
    {
      "cell_type": "markdown",
      "metadata": {
        "id": "oFkfklnSdRN3"
      },
      "source": [
        "####Why This Fits the Binomial Model\n",
        "\n",
        "1.   Fixed number of trials: 10 laptops\n",
        "2.   Two outcomes: Defective or Not defective\n",
        "3.   Constant probability of defect: 5% (p = 0.05)\n",
        "4.   Looking for: Exactly 2 defects"
      ]
    },
    {
      "cell_type": "markdown",
      "metadata": {
        "id": "NZ30s8UFehsN"
      },
      "source": [
        "Binomial formula\n",
        "\n",
        "\n",
        "![image.png](data:image/png;base64,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)\n",
        "\n",
        "Where:\n",
        "n=10\n",
        "k=2\n",
        "p=0.05"
      ]
    },
    {
      "cell_type": "code",
      "execution_count": null,
      "metadata": {
        "colab": {
          "base_uri": "https://localhost:8080/"
        },
        "id": "ZYHCVoy_c4r8",
        "outputId": "3caed1a2-bcd7-49bb-a751-45381ed9fffe"
      },
      "outputs": [
        {
          "name": "stdout",
          "output_type": "stream",
          "text": [
            "Probability of exactly 2 defective computers is :0.0746347985\n"
          ]
        }
      ],
      "source": [
        "#factorial culculation\n",
        "def factorial(n):\n",
        "  result=1\n",
        "  for i in range(1,n+1):\n",
        "    result*=i\n",
        "  return result\n",
        "\n",
        "def combination(n,k): # culculation of combination( possible ways for choosing k items from n trials)\n",
        "  return factorial(n) // (factorial(k) * factorial(n-k))\n",
        "\n",
        "\n",
        "def binomial_probability(n,k,p): # function to culculate binomial probability og getting exactly k(2) success out of n trials(10)\n",
        "  return combination(n,k) * (p**k) * ((1-p)**(n-k))\n",
        "\n",
        "# Our parameters\n",
        "n=10 #number of trials\n",
        "k=2  #number of success (defective computers)\n",
        "p=0.05 #the probability of success ( getting  a defective laptop)\n",
        "\n",
        "probability=binomial_probability(n,k,p)\n",
        "print(f\"Probability of exactly {k} defective computers is :{probability:.10f}\")\n"
      ]
    },
    {
      "cell_type": "markdown",
      "metadata": {
        "id": "7M3SvuZslOy1"
      },
      "source": [
        "**Probability Distribution Graph**"
      ]
    },
    {
      "cell_type": "code",
      "execution_count": null,
      "metadata": {
        "colab": {
          "base_uri": "https://localhost:8080/",
          "height": 509
        },
        "id": "8JR1ICpJlW2S",
        "outputId": "3001ac48-e0f6-458b-ff22-09e3ac5529b0"
      },
      "outputs": [
        {
          "data": {
            "image/png": "[encoded data removed]",
            "text/plain": [
              "<Figure size 640x480 with 1 Axes>"
            ]
          },
          "metadata": {},
          "output_type": "display_data"
        },
        {
          "name": "stdout",
          "output_type": "stream",
          "text": [
            "Y values: [0.5987369392383787, 0.31512470486230454, 0.07463479852001952, 0.010475059441406248, 0.0009648081064453125, 6.0935248828124994e-05, 2.672598632812501e-06, 8.037890625000001e-08, 1.586425781250001e-09, 1.8554687500000008e-11, 9.765625000000005e-14]\n"
          ]
        }
      ],
      "source": [
        "import matplotlib.pyplot as plt\n",
        "\n",
        "x_values=range(11) # this is from 0 to 10 defects\n",
        "y_values=[binomial_probability(n,k,p) for k in x_values]\n",
        "\n",
        "plt.bar(x_values,y_values)\n",
        "plt.title(\"Binomial Distribution of Defective Laptops n=10, p=0.05)\")\n",
        "plt.xlabel(\"Number of Defective Laptops\")\n",
        "plt.ylabel(\"Probability\")\n",
        "plt.title(\"Binomial Distribution of Defective Laptops\")\n",
        "plt.show()\n",
        "print(f\"Y values: {y_values}\")\n"
      ]
    },
    {
      "cell_type": "markdown",
      "metadata": {
        "id": "5rEsTwh-sE2u"
      },
      "source": [
        "This graph shows the probabilities for 0 to 10 defective laptops out of 10.This is a right-skewed distribution (long tail to the right), which is typical for low-probability events in binomial distribution"
      ]
    },
    {
      "cell_type": "markdown",
      "metadata": {
        "id": "iMPxi3CDtxwM"
      },
      "source": [
        "\n",
        "##Insights & Comparison\n",
        "\n",
        "1. The Binomial distribution is discrete and focuses on fixed trials with two outcomes\n",
        "\n",
        "2. This differs from the Normal distribution, which is continuous and symmetric, modeling things like heights or test scores\n",
        "\n",
        "3. If we increased sample size to a very large number, the Binomial distribution starts to resemble a Normal distribution\n",
        "\n",
        "4. The Poisson distribution models events occurring randomly over time, unlike the fixed trials in Binomial\n",
        "\n",
        "5. The Exponential distribution models waiting time between events, which is different from counting successes\n",
        "\n"
      ]
    },
    {
      "cell_type": "markdown",
      "metadata": {
        "id": "J2Bj5iycYOyQ"
      },
      "source": [
        "## GRADIENT DESCENT IN CODE"
      ]
    },
    {
      "cell_type": "code",
      "execution_count": null,
      "metadata": {
        "id": "ikMaOv-MYStU"
      },
      "outputs": [],
      "source": [
        "import numpy as np\n",
        "import matplotlib.pyplot as plt\n",
        "from scipy.optimize import minimize"
      ]
    },
    {
      "cell_type": "code",
      "execution_count": null,
      "metadata": {
        "colab": {
          "base_uri": "https://localhost:8080/"
        },
        "id": "3T8j9s6VZnbk",
        "outputId": "980f0168-ba03-4db9-d185-c9c460d7d06f"
      },
      "outputs": [
        {
          "data": {
            "text/plain": [
              "2"
            ]
          },
          "execution_count": 4,
          "metadata": {},
          "output_type": "execute_result"
        }
      ],
      "source": [
        "data = [(1, 3), (3, 6)]\n",
        "n = len(data)\n",
        "n"
      ]
    },
    {
      "cell_type": "code",
      "execution_count": null,
      "metadata": {
        "id": "-pZDhAwcZ2is"
      },
      "outputs": [],
      "source": [
        "# Initial values\n",
        "m = -1.0\n",
        "b = 1.0\n",
        "alpha = 0.1\n",
        "iterations = 4"
      ]
    },
    {
      "cell_type": "code",
      "execution_count": null,
      "metadata": {
        "id": "g6nanFCNfsFz"
      },
      "outputs": [],
      "source": [
        "def predict(x, m, b):\n",
        "    \"\"\"Compute predicted value.\"\"\"\n",
        "    return m * x + b"
      ]
    },
    {
      "cell_type": "code",
      "execution_count": null,
      "metadata": {
        "id": "H-_lH0dafs19"
      },
      "outputs": [],
      "source": [
        "def compute_gradients(data, m, b):\n",
        "    \"\"\"Compute gradients using assignment formula.\"\"\"\n",
        "    grad_m = 0\n",
        "    grad_b = 0\n",
        "    for x, y in data:\n",
        "        error = y - predict(x, m, b)\n",
        "        grad_m += error * x\n",
        "        grad_b += error\n",
        "    grad_m = - (2 / n) * grad_m\n",
        "    grad_b = - (2 / n) * grad_b\n",
        "    return grad_m, grad_b"
      ]
    },
    {
      "cell_type": "code",
      "execution_count": null,
      "metadata": {
        "id": "Fret5kY7fwMs"
      },
      "outputs": [],
      "source": [
        "def compute_mse(data, m, b):\n",
        "    \"\"\"Compute mean squared error.\"\"\"\n",
        "    total_error = 0\n",
        "    for x, y in data:\n",
        "        total_error += (y - predict(x, m, b)) ** 2\n",
        "    return total_error / n\n"
      ]
    },
    {
      "cell_type": "code",
      "execution_count": null,
      "metadata": {
        "colab": {
          "base_uri": "https://localhost:8080/"
        },
        "id": "v8z6WjdZfzLk",
        "outputId": "08c35e0c-0297-4ed1-971c-dea47ec6fdcf"
      },
      "outputs": [
        {
          "name": "stdout",
          "output_type": "stream",
          "text": [
            "Iteration 1: m = 1.7000, b = 2.1000, MSE = 1.0400\n",
            "Iteration 2: m = 1.2600, b = 1.9000, MSE = 0.0640\n",
            "Iteration 3: m = 1.3400, b = 1.9160, MSE = 0.0348\n",
            "Iteration 4: m = 1.3336, b = 1.8968, MSE = 0.0318\n"
          ]
        }
      ],
      "source": [
        "def gradient_descent(data, m, b, alpha, iterations):\n",
        "    \"\"\"Perform gradient descent for specified iterations.\"\"\"\n",
        "    m_history = [m]\n",
        "    b_history = [b]\n",
        "    error_history = []\n",
        "\n",
        "    for i in range(iterations):\n",
        "        grad_m, grad_b = compute_gradients(data, m, b)\n",
        "        m -= alpha * grad_m\n",
        "        b -= alpha * grad_b\n",
        "        mse = compute_mse(data, m, b)\n",
        "\n",
        "        m_history.append(m)\n",
        "        b_history.append(b)\n",
        "        error_history.append(mse)\n",
        "\n",
        "        print(f\"Iteration {i+1}: m = {m:.4f}, b = {b:.4f}, MSE = {mse:.4f}\")\n",
        "\n",
        "    return m, b, m_history, b_history, error_history\n",
        "\n",
        "m, b, m_vals, b_vals, error_vals = gradient_descent(data, m, b, alpha, iterations)\n",
        "\n"
      ]
    },
    {
      "cell_type": "code",
      "execution_count": null,
      "metadata": {
        "colab": {
          "base_uri": "https://localhost:8080/"
        },
        "id": "vCP_pqG7gDdD",
        "outputId": "6c08fac5-7d1f-4b19-bf2e-553a1d16483d"
      },
      "outputs": [
        {
          "name": "stdout",
          "output_type": "stream",
          "text": [
            "\n",
            "Final Predictions:\n",
            "x = 1, predicted y = 3.2304\n",
            "x = 3, predicted y = 5.8976\n"
          ]
        }
      ],
      "source": [
        "# Final Predictions\n",
        "print(\"\\nFinal Predictions:\")\n",
        "for x, _ in data:\n",
        "    print(f\"x = {x}, predicted y = {predict(x, m, b):.4f}\")"
      ]
    },
    {
      "cell_type": "code",
      "execution_count": null,
      "metadata": {
        "colab": {
          "base_uri": "https://localhost:8080/",
          "height": 489
        },
        "id": "hFaxU7PmhgQG",
        "outputId": "5e72c70d-a914-4a69-d7e1-371c4ced7491"
      },
      "outputs": [
        {
          "data": {
            "text/plain": [
              "<matplotlib.legend.Legend at 0x7bbff5af2d10>"
            ]
          },
          "execution_count": 13,
          "metadata": {},
          "output_type": "execute_result"
        },
        {
          "data": {
            "image/png": "[encoded data removed]",
            "text/plain": [
              "<Figure size 640x480 with 1 Axes>"
            ]
          },
          "metadata": {},
          "output_type": "display_data"
        }
      ],
      "source": [
        "# m and b plot\n",
        "plt.subplot(1, 2, 1)\n",
        "plt.plot(range(1, iterations + 1), m_vals[1:], label='m (slope)', marker='o')\n",
        "plt.plot(range(1, iterations + 1), b_vals[1:], label='b (intercept)', marker='s')\n",
        "plt.title(\"Change in m and b over Iterations\")\n",
        "plt.xlabel(\"Iteration\")\n",
        "plt.ylabel(\"Value\")\n",
        "plt.grid(True)\n",
        "plt.legend()"
      ]
    },
    {
      "cell_type": "code",
      "execution_count": null,
      "metadata": {
        "colab": {
          "base_uri": "https://localhost:8080/",
          "height": 487
        },
        "id": "gGyLDiNuhuy7",
        "outputId": "4dc971c4-0cdc-4d30-b11b-cff1f1f1ae68"
      },
      "outputs": [
        {
          "data": {
            "image/png": "[encoded data removed]",
            "text/plain": [
              "<Figure size 640x480 with 1 Axes>"
            ]
          },
          "metadata": {},
          "output_type": "display_data"
        }
      ],
      "source": [
        "# Error plot\n",
        "plt.subplot(1, 2, 2)\n",
        "plt.plot(range(1, iterations + 1), error_vals, label='MSE', marker='x', color='red')\n",
        "plt.title(\"Mean Squared Error over Iterations\")\n",
        "plt.xlabel(\"Iteration\")\n",
        "plt.ylabel(\"Error\")\n",
        "plt.grid(True)\n",
        "plt.legend()\n",
        "\n",
        "plt.tight_layout()\n",
        "plt.show()"
      ]
    },
    {
      "cell_type": "code",
      "execution_count": null,
      "metadata": {
        "id": "ReN011crh1kz"
      },
      "outputs": [],
      "source": []
    },
    {
      "cell_type": "markdown",
      "metadata": {
        "id": "H1VFgyCkjCKA"
      },
      "source": [
        "**2. Bayesian Probability**\n",
        "\n",
        "\n",
        "The real world problem: We will take a scenario of a medical Diagnosis like COVID-19 in 2025.\n",
        "\n",
        "Suppose  Covid-19 affects 1% of a population. A test is developed for it, with the following properties: Let us suppose that 100 people are tested.\n",
        "\n",
        "False positive: You don’t have COVID-19, while you do have it. (5% are false positives)\n",
        "\n",
        "False Negative: You have COVID-19, while unfortunately, you don’t have any disease. (10% are false negatives)\n",
        "\n",
        "People take the test, and it comes back positive. What is the probability that the people have COVID-19?\n",
        "\n",
        "Let’s assume that \n",
        "\n",
        "A = Person has Covid-19\n",
        "\n",
        "~A = Person doesn't have Covid-19\n",
        "\n",
        "B = Test result is Positive\n",
        "\n",
        "~B = Test result is Negative\n",
        "\n",
        "\n",
        "Where:\n",
        "\n",
        "P(A)=0.01P(A) = 0.01P(A)=0.01 → prior probability of having Covid-19\n",
        "\n",
        "P(¬A)=0.99P(¬A) = 0.99P(¬A)=0.99 → prior probability of not having Covid-19\n",
        "\n",
        "P(B∣A)=0.90P(B|A) = 0.90P(B∣A)=0.90 → probability of a positive test if you have Covid (true positive)\n",
        "\n",
        "P(B∣¬A)=0.05P(B|¬A) = 0.05P(B∣¬A)=0.05 → probability of a positive test if you don’t have Covid (false positive)"
      ]
    },
    {
      "cell_type": "code",
      "execution_count": 11,
      "metadata": {},
      "outputs": [
        {
          "name": "stdout",
          "output_type": "stream",
          "text": [
            "P(A) = 1.00%\n",
            "P(¬A) = 99.00%\n",
            "P(B|A) = 90.00%\n",
            "P(B|¬A) = 5.00%\n",
            "P(B) = 5.85%\n",
            "P(A|B) = 15.38%\n"
          ]
        }
      ],
      "source": [
        "# Define the terms with labeled variables\n",
        "P_A = 0.01                 # P(A): prior probability of having Covid\n",
        "P_not_A = 1 - P_A          # P(¬A)\n",
        "\n",
        "P_B_given_A = 0.90         # P(B|A): test is positive given Covid\n",
        "P_B_given_not_A = 0.05     # P(B|¬A): test is positive without Covid\n",
        "\n",
        "# Total probability of positive test P(B)\n",
        "P_B = P_B_given_A * P_A + P_B_given_not_A * P_not_A\n",
        "\n",
        "# Bayes' theorem: P(A|B)\n",
        "P_A_given_B = (P_B_given_A * P_A) / P_B\n",
        "\n",
        "# Output the results\n",
        "print(f\"P(A) = {P_A:.2%}\")\n",
        "print(f\"P(¬A) = {P_not_A:.2%}\")\n",
        "print(f\"P(B|A) = {P_B_given_A:.2%}\")\n",
        "print(f\"P(B|¬A) = {P_B_given_not_A:.2%}\")\n",
        "print(f\"P(B) = {P_B:.2%}\")\n",
        "print(f\"P(A|B) = {P_A_given_B:.2%}\")"
      ]
    },
    {
      "cell_type": "markdown",
      "metadata": {},
      "source": [
        "Explain the practical significance of Bayesian inference.\n",
        "\n",
        "Bayesian inference helps:\n",
        "\n",
        "1. Doctors interpret test results accurately.\n",
        "2. Engineers tune AI models.\n",
        "3. Scientists update hypotheses with new data.\n",
        "4. Everyone makes rational decisions under uncertainty.\n"
      ]
    },
    {
      "cell_type": "markdown",
      "metadata": {},
      "source": []
    }
  ],
  "metadata": {
    "colab": {
      "provenance": []
    },
    "kernelspec": {
      "display_name": "Python 3",
      "name": "python3"
    },
    "language_info": {
      "name": "python"
    }
  },
  "nbformat": 4,
  "nbformat_minor": 0
}
